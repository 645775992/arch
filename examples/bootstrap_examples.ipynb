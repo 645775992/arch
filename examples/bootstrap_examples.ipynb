{
 "metadata": {
  "name": "",
  "signature": "sha256:fa1c07660feb163aaec1e7cd4b6d7636cdf9bec36702fb09abb55fc325b8b2fd"
 },
 "nbformat": 3,
 "nbformat_minor": 0,
 "worksheets": [
  {
   "cells": [
    {
     "cell_type": "heading",
     "level": 1,
     "metadata": {},
     "source": [
      "Bootstrap Examples"
     ]
    },
    {
     "cell_type": "markdown",
     "metadata": {},
     "source": [
      "_This setup code is required to run in an IPython notebook_"
     ]
    },
    {
     "cell_type": "code",
     "collapsed": false,
     "input": [
      "%pylab inline\n",
      "pylab.rcParams['figure.figsize'] = (10.0, 6.0)\n",
      "pylab.rcParams['savefig.dpi'] = 90\n",
      "try:\n",
      "    import seaborn\n",
      "except ImportError:\n",
      "    pass"
     ],
     "language": "python",
     "metadata": {},
     "outputs": [
      {
       "output_type": "stream",
       "stream": "stdout",
       "text": [
        "Populating the interactive namespace from numpy and matplotlib\n"
       ]
      }
     ],
     "prompt_number": 1
    },
    {
     "cell_type": "heading",
     "level": 2,
     "metadata": {},
     "source": [
      "Sharpe Ratio"
     ]
    },
    {
     "cell_type": "markdown",
     "metadata": {},
     "source": [
      "The Sharpe Ratio is an important measure of return per unit of risk.  The example shows how to estimate the variance of the Sharpe Ratio and how to construct confidence intervals for the Sharpe Ratio using a long series of U.S. equity data.  First, the data is imported using pandas."
     ]
    },
    {
     "cell_type": "code",
     "collapsed": false,
     "input": [
      "import numpy as np\n",
      "import pandas as pd\n",
      "import pandas.io.data as web\n",
      "ff=web.DataReader('F-F_Research_Data_Factors', 'famafrench')\n",
      "ff = ff[0]\n"
     ],
     "language": "python",
     "metadata": {},
     "outputs": [],
     "prompt_number": 2
    },
    {
     "cell_type": "markdown",
     "metadata": {},
     "source": [
      "The data set contains the Fama-French factors, including the excess market reutrn."
     ]
    },
    {
     "cell_type": "code",
     "collapsed": false,
     "input": [
      "ff.describe()\n",
      "excess_market = ff[['1 Mkt-RF']]\n"
     ],
     "language": "python",
     "metadata": {},
     "outputs": [],
     "prompt_number": 3
    },
    {
     "cell_type": "markdown",
     "metadata": {},
     "source": [
      "The next step is to construct a function that computes the Sharpe Ratio.  This function also return the annualized mean and annualized standard deviation which will allow the covariance matrix of these parameters to be estimated using the bootstrap."
     ]
    },
    {
     "cell_type": "code",
     "collapsed": false,
     "input": [
      "def sharpe_ratio(x):\n",
      "    mu, sigma = 12 * x.mean(), np.sqrt(12 * x.var())\n",
      "    values = np.array([mu, sigma, mu / sigma ]).squeeze()\n",
      "    index = ['mu', 'sigma', 'SR']\n",
      "    return pd.Series(values, index=index)\n"
     ],
     "language": "python",
     "metadata": {},
     "outputs": [],
     "prompt_number": 4
    },
    {
     "cell_type": "markdown",
     "metadata": {},
     "source": [
      "The function can be called directly on the data to shwo full sample estimates."
     ]
    },
    {
     "cell_type": "code",
     "collapsed": false,
     "input": [
      "params = sharpe_ratio(excess_market)\n",
      "params"
     ],
     "language": "python",
     "metadata": {},
     "outputs": [
      {
       "metadata": {},
       "output_type": "pyout",
       "prompt_number": 5,
       "text": [
        "mu        7.834140\n",
        "sigma    18.697578\n",
        "SR        0.418992\n",
        "dtype: float64"
       ]
      }
     ],
     "prompt_number": 5
    },
    {
     "cell_type": "markdown",
     "metadata": {},
     "source": [
      "### _Warning_\n",
      "\n",
      "_The bootstrap chosen must be appropriate for the data.  Squared returns are serially correlated, and so a time-series bootstrap is required._"
     ]
    },
    {
     "cell_type": "markdown",
     "metadata": {},
     "source": [
      "Bootstraps are initialized with any bootstrap specific parameters and the data to be used in the bootstrap.  Here the `12` is the average window length in the Stationary Bootstrap, and the next input is the data to be bootstrapped."
     ]
    },
    {
     "cell_type": "code",
     "collapsed": false,
     "input": [
      "from arch.bootstrap import StationaryBootstrap\n",
      "bs = StationaryBootstrap(12, excess_market)\n",
      "results = bs.apply(sharpe_ratio, 2500)\n",
      "SR = pd.DataFrame(results[:,-1:], columns=['SR'])\n",
      "fig = SR.hist(bins=40)"
     ],
     "language": "python",
     "metadata": {},
     "outputs": [
      {
       "metadata": {},
       "output_type": "display_data",
       "png": "[encoded data removed]",
       "text": [
        "<matplotlib.figure.Figure at 0x13c80860>"
       ]
      }
     ],
     "prompt_number": 6
    },
    {
     "cell_type": "code",
     "collapsed": false,
     "input": [
      "cov = bs.cov(sharpe_ratio, 1000)\n",
      "cov = pd.DataFrame(cov, index=params.index, columns=params.index)\n",
      "print(cov)\n",
      "se = pd.Series(np.sqrt(np.diag(cov)), index=params.index)\n",
      "se.name = 'Std Errors'\n",
      "print('\\n')\n",
      "print(se)"
     ],
     "language": "python",
     "metadata": {},
     "outputs": [
      {
       "output_type": "stream",
       "stream": "stdout",
       "text": [
        "             mu     sigma        SR\n",
        "mu     4.315708 -0.636594  0.245646\n",
        "sigma -0.636594  3.138060 -0.104996\n",
        "SR     0.245646 -0.104996  0.015705\n",
        "\n",
        "\n",
        "mu       2.077428\n",
        "sigma    1.771457\n",
        "SR       0.125321\n",
        "Name: Std Errors, dtype: float64\n"
       ]
      }
     ],
     "prompt_number": 7
    },
    {
     "cell_type": "code",
     "collapsed": false,
     "input": [
      "ci = bs.conf_int(sharpe_ratio, 1000, method='basic')\n",
      "ci = pd.DataFrame(ci, index=['Lower','Upper'], columns=params.index)\n",
      "print(ci)"
     ],
     "language": "python",
     "metadata": {},
     "outputs": [
      {
       "output_type": "stream",
       "stream": "stdout",
       "text": [
        "              mu      sigma        SR\n",
        "Lower   3.918485  15.338137  0.153562\n",
        "Upper  12.097401  21.808158  0.652283\n"
       ]
      }
     ],
     "prompt_number": 8
    },
    {
     "cell_type": "markdown",
     "metadata": {},
     "source": [
      "Alternative confidence intervals can be computed using a variety of methods.  Setting `reuse=True` allows the previous bootstrap results to be used when constructing confidence intervals using alternative methods."
     ]
    },
    {
     "cell_type": "code",
     "collapsed": false,
     "input": [
      "ci = bs.conf_int(sharpe_ratio, 1000, method='percentile', reuse=True)\n",
      "ci = pd.DataFrame(ci, index=['Lower','Upper'], columns=params.index)\n",
      "print(ci)"
     ],
     "language": "python",
     "metadata": {},
     "outputs": [
      {
       "output_type": "stream",
       "stream": "stdout",
       "text": [
        "              mu      sigma        SR\n",
        "Lower   3.570879  15.586998  0.185701\n",
        "Upper  11.749795  22.057019  0.684423\n"
       ]
      }
     ],
     "prompt_number": 9
    },
    {
     "cell_type": "heading",
     "level": 2,
     "metadata": {},
     "source": [
      "Probit (Statsmodels)"
     ]
    },
    {
     "cell_type": "markdown",
     "metadata": {},
     "source": [
      "The second example makes use of a Probit model from Statsmodels.  The demo data is university admissions data which contains a binary variable for being admitted, GRE score, GPA score and quartile rank. This data is downloaded from the internet and imported using pandas."
     ]
    },
    {
     "cell_type": "code",
     "collapsed": false,
     "input": [
      "import numpy as np\n",
      "import pandas as pd\n",
      "import urllib2\n",
      "import StringIO\n",
      "url = 'http://www.ats.ucla.edu/stat/stata/dae/binary.dta'\n",
      "file_name = url.split('/')[-1]\n",
      "\n",
      "u = urllib2.urlopen(url)\n",
      "f = open(file_name, 'wb')\n",
      "block_sz = 8192\n",
      "while True:\n",
      "    buffer = u.read(block_sz)\n",
      "    if not buffer:\n",
      "        break\n",
      "\n",
      "    f.write(buffer)\n",
      "\n",
      "f.close()\n",
      "binary = pd.read_stata(file_name)\n",
      "binary = binary.dropna()\n",
      "print(binary.describe())"
     ],
     "language": "python",
     "metadata": {},
     "outputs": [
      {
       "output_type": "stream",
       "stream": "stdout",
       "text": [
        "            admit         gre         gpa       rank\n",
        "count  400.000000  400.000000  400.000000  400.00000\n",
        "mean     0.317500  587.700000    3.389900    2.48500\n",
        "std      0.466087  115.516536    0.380567    0.94446\n",
        "min      0.000000  220.000000    2.260000    1.00000\n",
        "25%      0.000000  520.000000    3.130000    2.00000\n",
        "50%      0.000000  580.000000    3.395000    2.00000\n",
        "75%      1.000000  660.000000    3.670000    3.00000\n",
        "max      1.000000  800.000000    4.000000    4.00000\n"
       ]
      }
     ],
     "prompt_number": 10
    },
    {
     "cell_type": "heading",
     "level": 3,
     "metadata": {},
     "source": [
      "Fitting the model directly"
     ]
    },
    {
     "cell_type": "markdown",
     "metadata": {},
     "source": [
      "The first steps are to build the regressor and the dependent variable arrays.  Then, using these arrays, the model can be estimated by calling `fit`"
     ]
    },
    {
     "cell_type": "code",
     "collapsed": false,
     "input": [
      "endog = binary[['admit']]\n",
      "exog = binary[['gre','gpa']]\n",
      "const = pd.Series(np.ones(exog.shape[0]), index=endog.index)\n",
      "const.name = 'Const'\n",
      "exog = pd.DataFrame([const, exog.gre, exog.gpa]).T\n",
      "# Estimate the model\n",
      "import statsmodels.api as sm\n",
      "mod = sm.Probit(endog, exog)\n",
      "fit = mod.fit(disp=0)\n",
      "params = fit.params\n",
      "print(params)"
     ],
     "language": "python",
     "metadata": {},
     "outputs": [
      {
       "output_type": "stream",
       "stream": "stdout",
       "text": [
        "Const   -3.003536\n",
        "gre      0.001643\n",
        "gpa      0.454575\n",
        "dtype: float64\n"
       ]
      }
     ],
     "prompt_number": 11
    },
    {
     "cell_type": "heading",
     "level": 3,
     "metadata": {},
     "source": [
      "The wrapper function"
     ]
    },
    {
     "cell_type": "markdown",
     "metadata": {},
     "source": [
      "Most models in Statsmodels are implemented as classes, require an explicit call to `fit` and return a class containing parameter estimates and other quantities.  These classes cannot be directly used with the bootstrap methods.  However, a simple wrapper can be written that takes the data as the only inputs and returns parameters estimated using a Statsmodel model."
     ]
    },
    {
     "cell_type": "code",
     "collapsed": false,
     "input": [
      "def probit_wrap(endog, exog):\n",
      "    return sm.Probit(endog, exog).fit(disp=0).params\n"
     ],
     "language": "python",
     "metadata": {},
     "outputs": [],
     "prompt_number": 12
    },
    {
     "cell_type": "markdown",
     "metadata": {},
     "source": [
      "A call to this function should return the same parameter values."
     ]
    },
    {
     "cell_type": "code",
     "collapsed": false,
     "input": [
      "probit_wrap(endog, exog)"
     ],
     "language": "python",
     "metadata": {},
     "outputs": [
      {
       "metadata": {},
       "output_type": "pyout",
       "prompt_number": 13,
       "text": [
        "Const   -3.003536\n",
        "gre      0.001643\n",
        "gpa      0.454575\n",
        "dtype: float64"
       ]
      }
     ],
     "prompt_number": 13
    },
    {
     "cell_type": "markdown",
     "metadata": {},
     "source": [
      "The wrapper can be directly used to estimate the parameter covariance or to construct confidence intervals."
     ]
    },
    {
     "cell_type": "code",
     "collapsed": false,
     "input": [
      "from arch.bootstrap import IIDBootstrap \n",
      "bs = IIDBootstrap(endog=endog, exog=exog)\n",
      "cov = bs.cov(probit_wrap, 1000)\n",
      "cov = pd.DataFrame(cov, index=exog.columns, columns=exog.columns)\n",
      "print(cov)"
     ],
     "language": "python",
     "metadata": {},
     "outputs": [
      {
       "output_type": "stream",
       "stream": "stdout",
       "text": [
        "          Const       gre       gpa\n",
        "Const  0.421243 -0.000073 -0.108926\n",
        "gre   -0.000073  0.000000 -0.000057\n",
        "gpa   -0.108926 -0.000057  0.041840\n"
       ]
      }
     ],
     "prompt_number": 14
    },
    {
     "cell_type": "code",
     "collapsed": false,
     "input": [
      "se = pd.Series(np.sqrt(np.diag(cov)), index=exog.columns)\n",
      "print(se)\n",
      "print('T-stats')\n",
      "print(params / se)"
     ],
     "language": "python",
     "metadata": {},
     "outputs": [
      {
       "output_type": "stream",
       "stream": "stdout",
       "text": [
        "Const    0.649033\n",
        "gre      0.000666\n",
        "gpa      0.204548\n",
        "dtype: float64\n",
        "T-stats\n",
        "Const   -4.627712\n",
        "gre      2.466545\n",
        "gpa      2.222334\n",
        "dtype: float64\n"
       ]
      }
     ],
     "prompt_number": 15
    },
    {
     "cell_type": "code",
     "collapsed": false,
     "input": [
      "ci = bs.conf_int(probit_wrap, 1000, method='basic')\n",
      "ci = pd.DataFrame(ci, index=['Lower','Upper'], columns=exog.columns)\n",
      "print(ci)"
     ],
     "language": "python",
     "metadata": {},
     "outputs": [
      {
       "output_type": "stream",
       "stream": "stdout",
       "text": [
        "          Const       gre       gpa\n",
        "Lower -4.205556  0.000342  0.061011\n",
        "Upper -1.699274  0.002934  0.829515\n"
       ]
      }
     ],
     "prompt_number": 16
    },
    {
     "cell_type": "heading",
     "level": 3,
     "metadata": {},
     "source": [
      "Speeding things up"
     ]
    },
    {
     "cell_type": "markdown",
     "metadata": {},
     "source": [
      "Starting values can be provided to `fit` which can save time finding starting values.  Since the bootstrap parameter estimates should be close to the original sample estimates, the full sample estimated parameters are reasonable starting values.  These can be passed using the `extra_kwargs` dictionary to a modified wrapper that will accept a keyword argument containing starting values."
     ]
    },
    {
     "cell_type": "code",
     "collapsed": false,
     "input": [
      "def probit_wrap_start_params(endog, exog, start_params=None):\n",
      "    return sm.Probit(endog, exog).fit(start_params=start_params, disp=0).params"
     ],
     "language": "python",
     "metadata": {},
     "outputs": [],
     "prompt_number": 17
    },
    {
     "cell_type": "code",
     "collapsed": false,
     "input": [
      "bs.reset()  # Reset to original state for comparability\n",
      "cov = bs.cov(probit_wrap_start_params, 1000, extra_kwargs={'start_params': params.values})\n",
      "cov = pd.DataFrame(cov, index=exog.columns, columns=exog.columns)\n",
      "print(cov)"
     ],
     "language": "python",
     "metadata": {},
     "outputs": [
      {
       "output_type": "stream",
       "stream": "stdout",
       "text": [
        "          Const       gre       gpa\n",
        "Const  0.421243 -0.000073 -0.108926\n",
        "gre   -0.000073  0.000000 -0.000057\n",
        "gpa   -0.108926 -0.000057  0.041840\n"
       ]
      }
     ],
     "prompt_number": 18
    }
   ],
   "metadata": {}
  }
 ]
}