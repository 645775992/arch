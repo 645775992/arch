{

 "metadata": {

  "name": "",

  "signature": "sha256:dcde5d3eda1d73fbe5af11a9f047ac0c0b13fb763fba94118ef68f8821c92813"

 },

 "nbformat": 3,

 "nbformat_minor": 0,

 "worksheets": [

  {

   "cells": [

    {

     "cell_type": "heading",

     "level": 1,

     "metadata": {},

     "source": [

      "ARCH Modeling"

     ]

    },

    {

     "cell_type": "markdown",

     "metadata": {},

     "source": [

      "_This setup code is required to run in an IPython notebook_"

     ]

    },

    {

     "cell_type": "code",

     "collapsed": false,

     "input": [

      "%pylab inline\n",

      "pylab.rcParams['figure.figsize'] = (10.0, 6.0)\n",

      "pylab.rcParams['savefig.dpi'] = 90"

     ],

     "language": "python",

     "metadata": {},

     "outputs": [

      {

       "output_type": "stream",

       "stream": "stdout",

       "text": [

        "Populating the interactive namespace from numpy and matplotlib\n"

       ]

      }

     ],

     "prompt_number": 1

    },

    {

     "cell_type": "heading",

     "level": 3,

     "metadata": {},

     "source": [

      "Setup"

     ]

    },

    {

     "cell_type": "markdown",

     "metadata": {},

     "source": [

      "These examples will all make use of financial data from Yahoo! Finance imported using `pandas`.  "

     ]

    },

    {

     "cell_type": "code",

     "collapsed": false,

     "input": [

      "try:\n",

      "    import seaborn\n",

      "except ImportError:\n",

      "    pass\n",

      "import datetime as dt\n",

      "import pandas.io.data as web\n",

      "st = dt.datetime(1990,1,1)\n",

      "en = dt.datetime(2014,1,1)\n",

      "data = web.get_data_yahoo('^FTSE', start=st, end=en)\n",

      "returns = 100 * data['Adj Close'].pct_change().dropna()\n",

      "figure = returns.plot()"

     ],

     "language": "python",

     "metadata": {},

     "outputs": [

      {

       "metadata": {},

       "output_type": "display_data",

       "png": "[encoded data removed]",

       "text": [

        "<matplotlib.figure.Figure at 0x103a55f8>"

       ]

      }

     ],

     "prompt_number": 2

    },

    {

     "cell_type": "heading",

     "level": 2,

     "metadata": {},

     "source": [

      "Specifying Common Models"

     ]

    },

    {

     "cell_type": "markdown",

     "metadata": {},

     "source": [

      "The simplest way to specify a model is to use the model constructor `arch.arch_model` which can specify most common models.  The simplest invocation of `arch` will return a model with a constant mean, GARCH(1,1) volatility process and normally distributed errors.\n",

      "\n",

      "\n",

      "$$ r_t  =  \\mu + \\epsilon_t$$\n",

      "\n",

      "$$\\sigma^2_t   =  \\omega + \\alpha \\epsilon_{t-1}^2 + \\beta \\sigma_{t-1}^2 $$\n",

      "\n",

      "$$\\epsilon_t  =  \\sigma_t e_t,\\,\\,\\, e_t  \\sim  N(0,1) $$\n",

      "\n",

      "\n",

      "The model is estimated by calling `fit`.  The optional inputs `iter` controls the frequency of output form the optimizer, and `disp` controls whether convergence information is returned.  The results class returned offers direct access to the estimated parameters and related quantities, as well as a `summary` of the estimation results."

     ]

    },

    {

     "cell_type": "heading",

     "level": 3,

     "metadata": {},

     "source": [

      "GARCH (with a Constant Mean)"

     ]

    },

    {

     "cell_type": "markdown",

     "metadata": {},

     "source": [

      "The default set of options produces a model with a constant mean, GARCH(1,1) conditional variance and normal errors."

     ]

    },

    {

     "cell_type": "code",

     "collapsed": false,

     "input": [

      "from arch import arch_model\n",

      "am = arch_model(returns) \n",

      "res = am.fit(iter=5)\n",

      "print(res.summary())"

     ],

     "language": "python",

     "metadata": {},

     "outputs": [

      {

       "output_type": "stream",

       "stream": "stdout",

       "text": [

        "Iteration:      5,   Func. Count:     39,   Neg. LLF: 8472.94226259\n",

        "Iteration:     10,   Func. Count:     72,   Neg. LLF: 8470.53561036\n",

        "Optimization terminated successfully.    (Exit mode 0)\n",

        "            Current function value: 8470.53538528\n",

        "            Iterations: 11\n",

        "            Function evaluations: 79\n",

        "            Gradient evaluations: 11\n",

        "                     Constant Mean - GARCH Model Results                      \n",

        "==============================================================================\n",

        "Dep. Variable:              Adj Close   R-squared:                      -0.000\n",

        "Mean Model:             Constant Mean   Adj. R-squared:                 -0.000\n",

        "Vol Model:                      GARCH   Log-Likelihood:               -8470.54\n",

        "Distribution:                  Normal   AIC:                           16949.1\n",

        "Method:            Maximum Likelihood   BIC:                           16976.0\n",

        "                                        No. Observations:                 6262\n",

        "Date:                Thu, Oct 16 2014   Df Residuals:                     6258\n",

        "Time:                        21:55:30   Df Model:                            4\n",

        "                                  Mean Model                                  \n",

        "==============================================================================\n",

        "                 coef    std err          t      P>|t|        95.0% Conf. Int.\n",

        "------------------------------------------------------------------------------\n",

        "mu             0.0441  1.094e-04    402.891      0.000   [4.387e-02,4.430e-02]\n",

        "                               Volatility Model                               \n",

        "==============================================================================\n",

        "                 coef    std err          t      P>|t|        95.0% Conf. Int.\n",

        "------------------------------------------------------------------------------\n",

        "omega          0.0126  9.324e-06   1346.356      0.000   [1.253e-02,1.257e-02]\n",

        "alpha[1]       0.0824  1.024e-04    804.610      0.000   [8.221e-02,8.261e-02]\n",

        "beta[1]        0.9072  1.242e-04   7303.863      0.000       [  0.907,  0.907]\n",

        "==============================================================================\n",

        "\n",

        "Covariance estimator: robust"

       ]

      },

      {

       "output_type": "stream",

       "stream": "stdout",

       "text": [

        "\n"

       ]

      }

     ],

     "prompt_number": 3

    },

    {

     "cell_type": "markdown",

     "metadata": {},

     "source": [

      "`plot()` can be used to quickly visualize the standardized residuals and conditional volatility.  "

     ]

    },

    {

     "cell_type": "code",

     "collapsed": false,

     "input": [

      "fig = res.plot(annualize='D')"

     ],

     "language": "python",

     "metadata": {},

     "outputs": [

      {

       "metadata": {},

       "output_type": "display_data",

       "png": "[encoded data removed]",

       "text": [

        "<matplotlib.figure.Figure at 0x1523bfd0>"

       ]

      }

     ],

     "prompt_number": 4

    },

    {

     "cell_type": "heading",

     "level": 3,

     "metadata": {},

     "source": [

      "GJR-GARCH"

     ]

    },

    {

     "cell_type": "markdown",

     "metadata": {},

     "source": [

      "Additional inputs can be used to construct other models.  This example sets `o` to 1, which includes one lag of an asymmetric shock which transforms a GARCH model into a GJR-GARCH model with variance dynamics given by \n",

      "\n",

      "$$\n",

      "\\sigma^2_t   =  \\omega + \\alpha \\epsilon_{t-1}^2 + \\gamma \\epsilon_{t-1}^2 I_{[\\epsilon_{t-1}<0]}+ \\beta \\sigma_{t-1}^2 \n",

      "$$\n",

      "\n",

      "where $I$ is an indicator function that takes the value 1 when its argument is true.\n",

      "\n",

      "The log likelihood improves substantially with the introduction of an asymmetric term, and the parameter estimate is highly significant."

     ]

    },

    {

     "cell_type": "code",

     "collapsed": false,

     "input": [

      "am = arch_model(returns, p=1, o=1, q=1)\n",

      "res = am.fit(iter=5)\n",

      "print(res.summary())"

     ],

     "language": "python",

     "metadata": {},

     "outputs": [

      {

       "output_type": "stream",

       "stream": "stdout",

       "text": [

        "Iteration:      5,   Func. Count:     44,   Neg. LLF: 8408.4226105\n",

        "Iteration:     10,   Func. Count:     84,   Neg. LLF: 8396.94961262\n",

        "Iteration:     15,   Func. Count:    121,   Neg. LLF: 8396.81323857"

       ]

      },

      {

       "output_type": "stream",

       "stream": "stdout",

       "text": [

        "\n",

        "Optimization terminated successfully.    (Exit mode 0)\n",

        "            Current function value: 8396.81323593\n",

        "            Iterations: 16\n",

        "            Function evaluations: 128\n",

        "            Gradient evaluations: 16\n",

        "                   Constant Mean - GJR-GARCH Model Results                    \n",

        "==============================================================================\n",

        "Dep. Variable:              Adj Close   R-squared:                      -0.000\n",

        "Mean Model:             Constant Mean   Adj. R-squared:                 -0.000\n",

        "Vol Model:                  GJR-GARCH   Log-Likelihood:               -8396.81\n",

        "Distribution:                  Normal   AIC:                           16803.6\n",

        "Method:            Maximum Likelihood   BIC:                           16837.3\n",

        "                                        No. Observations:                 6262\n",

        "Date:                Thu, Oct 16 2014   Df Residuals:                     6257\n",

        "Time:                        21:55:31   Df Model:                            5\n",

        "                                  Mean Model                                  \n",

        "==============================================================================\n",

        "                 coef    std err          t      P>|t|        95.0% Conf. Int.\n",

        "------------------------------------------------------------------------------\n",

        "mu             0.0193  1.108e-04    174.257      0.000   [1.909e-02,1.953e-02]\n",

        "                               Volatility Model                               \n",

        "==============================================================================\n",

        "                 coef    std err          t      P>|t|        95.0% Conf. Int.\n",

        "------------------------------------------------------------------------------\n",

        "omega          0.0132  6.833e-06   1927.722      0.000   [1.316e-02,1.319e-02]\n",

        "alpha[1]       0.0103  3.001e-05    342.476      0.000   [1.022e-02,1.034e-02]\n",

        "gamma[1]       0.1051  1.695e-04    620.125      0.000       [  0.105,  0.105]\n",

        "beta[1]        0.9244  7.489e-05  1.234e+04      0.000       [  0.924,  0.925]\n",

        "==============================================================================\n",

        "\n",

        "Covariance estimator: robust"

       ]

      },

      {

       "output_type": "stream",

       "stream": "stdout",

       "text": [

        "\n"

       ]

      }

     ],

     "prompt_number": 5

    },

    {

     "cell_type": "heading",

     "level": 3,

     "metadata": {},

     "source": [

      "TARCH/ZARCH"

     ]

    },

    {

     "cell_type": "markdown",

     "metadata": {},

     "source": [

      "TARCH (also known as ZARCH) model the _volatility_ using absolute values.  This model is specified using `power=1.0` since the default power, 2, corresponds to variance processes that evolve in squares.\n",

      "\n",

      "The volatility process in a TARCH model is given by \n",

      "\n",

      "$$\n",

      "\\sigma_t  =  \\omega + \\alpha \\left|\\epsilon_{t-1}\\right| + \\gamma \\left|\\epsilon_{t-1}\\right| I_{[\\epsilon_{t-1}<0]}+ \\beta \\sigma_{t-1} \n",

      "$$\n",

      "\n",

      "More general models with other powers ($\\kappa$) have volatility dynamics given by \n",

      "\n",

      "$$\n",

      "\\sigma_t^\\kappa   = \\omega + \\alpha \\left|\\epsilon_{t-1}\\right|^\\kappa + \\gamma \\left|\\epsilon_{t-1}\\right|^\\kappa I_{[\\epsilon_{t-1}<0]}+ \\beta \\sigma_{t-1}^\\kappa \n",

      "$$\n",

      "\n",

      "where the conditional variance is $\\left(\\sigma_t^\\kappa\\right)^{2/\\kappa}$.\n",

      "\n",

      "The TARCH model also improves the fit, although the change in the log likelihood is less dramatic."

     ]

    },

    {

     "cell_type": "code",

     "collapsed": false,

     "input": [

      "am = arch_model(returns, p=1, o=1, q=1, power=1.0)\n",

      "res = am.fit(iter=5)\n",

      "print(res.summary())"

     ],

     "language": "python",

     "metadata": {},

     "outputs": [

      {

       "output_type": "stream",

       "stream": "stdout",

       "text": [

        "Iteration:      5,   Func. Count:     47,   Neg. LLF: 8419.53022235\n",

        "Iteration:     10,   Func. Count:     88,   Neg. LLF: 8387.51163626\n",

        "Iteration:     15,   Func. Count:    124,   Neg. LLF: 8386.8106626"

       ]

      },

      {

       "output_type": "stream",

       "stream": "stdout",

       "text": [

        "\n",

        "Optimization terminated successfully.    (Exit mode 0)\n",

        "            Current function value: 8386.81066261\n",

        "            Iterations: 15\n",

        "            Function evaluations: 124\n",

        "            Gradient evaluations: 15\n",

        "                  Constant Mean - TARCH/ZARCH Model Results                   \n",

        "==============================================================================\n",

        "Dep. Variable:              Adj Close   R-squared:                      -0.000\n",

        "Mean Model:             Constant Mean   Adj. R-squared:                 -0.000\n",

        "Vol Model:                TARCH/ZARCH   Log-Likelihood:               -8386.81\n",

        "Distribution:                  Normal   AIC:                           16783.6\n",

        "Method:            Maximum Likelihood   BIC:                           16817.3\n",

        "                                        No. Observations:                 6262\n",

        "Date:                Thu, Oct 16 2014   Df Residuals:                     6257\n",

        "Time:                        21:55:32   Df Model:                            5\n",

        "                                  Mean Model                                  \n",

        "==============================================================================\n",

        "                 coef    std err          t      P>|t|        95.0% Conf. Int.\n",

        "------------------------------------------------------------------------------\n",

        "mu             0.0171  1.105e-04    154.852      0.000   [1.689e-02,1.733e-02]\n",

        "                               Volatility Model                               \n",

        "==============================================================================\n",

        "                 coef    std err          t      P>|t|        95.0% Conf. Int.\n",

        "------------------------------------------------------------------------------\n",

        "omega          0.0138  6.227e-06   2211.703      0.000   [1.376e-02,1.378e-02]\n",

        "alpha[1]       0.0132  3.750e-05    350.960      0.000   [1.309e-02,1.323e-02]\n",

        "gamma[1]       0.0932  9.838e-05    947.453      0.000   [9.302e-02,9.341e-02]\n",

        "beta[1]        0.9399  4.742e-05  1.982e+04      0.000       [  0.940,  0.940]\n",

        "==============================================================================\n",

        "\n",

        "Covariance estimator: robust"

       ]

      },

      {

       "output_type": "stream",

       "stream": "stdout",

       "text": [

        "\n"

       ]

      }

     ],

     "prompt_number": 6

    },

    {

     "cell_type": "heading",

     "level": 3,

     "metadata": {},

     "source": [

      "Student's T Errors"

     ]

    },

    {

     "cell_type": "markdown",

     "metadata": {},

     "source": [

      "Financial returns are often heavy tailed, and a Student's T distribution is a simple method to capture this feature.  The call to `arch` changes the distribution from a Normal to a Students's T.\n",

      "\n",

      "The standardized residuals appear to be heavy tailed with an estimated degree of freedom near 10.  The log-likelihood also shows a large increase."

     ]

    },

    {

     "cell_type": "code",

     "collapsed": false,

     "input": [

      "am = arch_model(returns, p=1, o=1, q=1, power=1.0, dist='StudentsT')\n",

      "res = am.fit(iter=5)\n",

      "print(res.summary())"

     ],

     "language": "python",

     "metadata": {},

     "outputs": [

      {

       "output_type": "stream",

       "stream": "stdout",

       "text": [

        "Iteration:      5,   Func. Count:     51,   Neg. LLF: 8366.06354471\n",

        "Iteration:     10,   Func. Count:     95,   Neg. LLF: 8336.78563965\n",

        "Iteration:     15,   Func. Count:    138,   Neg. LLF: 8336.48677997"

       ]

      },

      {

       "output_type": "stream",

       "stream": "stdout",

       "text": [

        "\n",

        "Optimization terminated successfully.    (Exit mode 0)\n",

        "            Current function value: 8336.48677041\n",

        "            Iterations: 16\n",

        "            Function evaluations: 147\n",

        "            Gradient evaluations: 16\n",

        "                     Constant Mean - TARCH/ZARCH Model Results                      \n",

        "====================================================================================\n",

        "Dep. Variable:                    Adj Close   R-squared:                      -0.000\n",

        "Mean Model:                   Constant Mean   Adj. R-squared:                 -0.000\n",

        "Vol Model:                      TARCH/ZARCH   Log-Likelihood:               -8336.49\n",

        "Distribution:      Standardized Student's t   AIC:                           16685.0\n",

        "Method:                  Maximum Likelihood   BIC:                           16725.4\n",

        "                                              No. Observations:                 6262\n",

        "Date:                      Thu, Oct 16 2014   Df Residuals:                     6256\n",

        "Time:                              21:55:32   Df Model:                            6\n",

        "                                  Mean Model                                  \n",

        "==============================================================================\n",

        "                 coef    std err          t      P>|t|        95.0% Conf. Int.\n",

        "------------------------------------------------------------------------------\n",

        "mu             0.0235  1.017e-04    230.898      0.000   [2.328e-02,2.368e-02]\n",

        "                               Volatility Model                               \n",

        "==============================================================================\n",

        "                 coef    std err          t      P>|t|        95.0% Conf. Int.\n",

        "------------------------------------------------------------------------------\n",

        "omega          0.0138  5.812e-06   2368.653      0.000   [1.376e-02,1.378e-02]\n",

        "alpha[1]       0.0102  3.323e-05    305.621      0.000   [1.009e-02,1.022e-02]\n",

        "gamma[1]       0.1032  8.844e-05   1166.360      0.000       [  0.103,  0.103]\n",

        "beta[1]        0.9382  3.833e-05  2.448e+04      0.000       [  0.938,  0.938]\n",

        "                                 Distribution                                 \n",

        "==============================================================================\n",

        "                 coef    std err          t      P>|t|        95.0% Conf. Int.\n",

        "------------------------------------------------------------------------------\n",

        "nu            11.0342      2.254      4.896  9.759e-07       [  6.617, 15.451]\n",

        "==============================================================================\n",

        "\n",

        "Covariance estimator: robust"

       ]

      },

      {

       "output_type": "stream",

       "stream": "stdout",

       "text": [

        "\n"

       ]

      }

     ],

     "prompt_number": 7

    },

    {

     "cell_type": "heading",

     "level": 2,

     "metadata": {},

     "source": [

      "Building a Model From Components"

     ]

    },

    {

     "cell_type": "markdown",

     "metadata": {},

     "source": [

      "Models can also be systematically assembled from the three model components:\n",

      "\n",

      "* A mean model (`arch.mean`)\n",

      "  * Zero mean (`ZeroMean`) - useful if using residuals from a model estimated separately\n",

      "  * Constant mean (`ConstantMean`) - common for most liquid financial assets\n",

      "  * Autoregressive (`ARX`) with optional exogenous regressors\n",

      "  * Heterogeneous (`HARX`) autoregression with optional exogenous regressors\n",

      "  * Exogenous regressors only (`LS`)\n",

      "* A volatility process (`arch.volatility`)\n",

      "  * ARCH (`ARCH`)\n",

      "  * GARCH (`GARCH`)\n",

      "  * GJR-GARCH (`GARCH` using `o` argument) \n",

      "  * TARCH/ZARCH (`GARCH` using `power` argument set to `1`)\n",

      "  * Power GARCH and Asymmetric Power GARCH (`GARCH` using `power`)\n",

      "  * Heterogeneous ARCH (`HARCH`)\n",

      "  * Parameterless Models\n",

      "    * Exponentially Weighted Moving Average Variance, known as RiskMetrics (`EWMAVariance`)\n",

      "    * Weighted averages of EWMAs, known as the RiskMetrics 2006 methodology (`RiskMetrics2006`)\n",

      "* A distribution (`arch.distribution`)\n",

      "  * Normal (`Normal`)\n",

      "  * Standardized Students's T (`StudentsT`)"

     ]

    },

    {

     "cell_type": "heading",

     "level": 3,

     "metadata": {},

     "source": [

      "Mean Models"

     ]

    },

    {

     "cell_type": "markdown",

     "metadata": {},

     "source": [

      "The first choice is the mean model.  For many liquid financial assets, a constant mean (or even zero) is adequate.  For other series, such as inflation, a more complicated model may be required.  These examples make use of Core CPI downloaded from the [Federal Reserve Economic Data](http://research.stlouisfed.org/fred2/) site."

     ]

    },

    {

     "cell_type": "code",

     "collapsed": false,

     "input": [

      "core_cpi = web.DataReader(\"CPILFESL\", \"fred\", dt.datetime(1957,1,1), dt.datetime(2014,1,1))\n",

      "ann_inflation = 100 * core_cpi.CPILFESL.pct_change(12).dropna()\n",

      "fig = ann_inflation.plot()"

     ],

     "language": "python",

     "metadata": {},

     "outputs": [

      {

       "metadata": {},

       "output_type": "display_data",

       "png": "[encoded data removed]",

       "text": [

        "<matplotlib.figure.Figure at 0x156f5320>"

       ]

      }

     ],

     "prompt_number": 8

    },

    {

     "cell_type": "markdown",

     "metadata": {},

     "source": [

      "All mean models are initialized with constant variance and normal errors.  For `ARX` models, the `lags` argument specifies the lags to include in the model."

     ]

    },

    {

     "cell_type": "code",

     "collapsed": false,

     "input": [

      "from arch.univariate import ARX\n",

      "ar = ARX(ann_inflation, lags = [1, 3, 12])\n",

      "print(ar.fit().summary())"

     ],

     "language": "python",

     "metadata": {},

     "outputs": [

      {

       "output_type": "stream",

       "stream": "stdout",

       "text": [

        "                     AR - Constant Variance Model Results                     \n",

        "==============================================================================\n",

        "Dep. Variable:               CPILFESL   R-squared:                       0.991\n",

        "Mean Model:                        AR   Adj. R-squared:                  0.991\n",

        "Vol Model:          Constant Variance   Log-Likelihood:               -13.7823\n",

        "Distribution:                  Normal   AIC:                           37.5646\n",

        "Method:            Maximum Likelihood   BIC:                           60.1233\n",

        "                                        No. Observations:                  673\n",

        "Date:                Thu, Oct 16 2014   Df Residuals:                      668\n",

        "Time:                        21:55:33   Df Model:                            5\n",

        "                                   Mean Model                                   \n",

        "================================================================================\n",

        "                   coef    std err          t      P>|t|        95.0% Conf. Int.\n",

        "--------------------------------------------------------------------------------\n",

        "Const            0.0424  4.825e-04     87.895      0.000   [4.146e-02,4.336e-02]\n",

        "CPILFESL[1]      1.1927  1.234e-03    966.828      0.000       [  1.190,  1.195]\n",

        "CPILFESL[3]     -0.1803  1.699e-03   -106.129      0.000       [ -0.184, -0.177]\n",

        "CPILFESL[12]    -0.0235  1.916e-04   -122.432      0.000 [-2.384e-02,-2.309e-02]\n",

        "                               Volatility Model                               \n",

        "==============================================================================\n",

        "                 coef    std err          t      P>|t|        95.0% Conf. Int.\n",

        "------------------------------------------------------------------------------\n",

        "sigma2         0.0610  4.891e-05   1248.048      0.000   [6.095e-02,6.114e-02]\n",

        "==============================================================================\n",

        "\n",

        "Covariance estimator: White's Heteroskedasticity Consistent Estimator\n"

       ]

      }

     ],

     "prompt_number": 9

    },

    {

     "cell_type": "heading",

     "level": 3,

     "metadata": {},

     "source": [

      "Volatility Processes"

     ]

    },

    {

     "cell_type": "markdown",

     "metadata": {},

     "source": [

      "Volatility processes can be added a a mean model using the `volatility` property.  This example adds an ARCH(3) process to model volatility. The arguments `iter` and `disp` are used in `fit()` to suppress estimation output."

     ]

    },

    {

     "cell_type": "code",

     "collapsed": false,

     "input": [

      "from arch.univariate import ARCH, GARCH\n",

      "ar.volatility = ARCH(p=5)\n",

      "res = ar.fit(iter=0, disp='off')\n",

      "print(res.summary())"

     ],

     "language": "python",

     "metadata": {},

     "outputs": [

      {

       "output_type": "stream",

       "stream": "stdout",

       "text": [

        "                           AR - ARCH Model Results                            \n",

        "==============================================================================\n",

        "Dep. Variable:               CPILFESL   R-squared:                       0.991\n",

        "Mean Model:                        AR   Adj. R-squared:                  0.991\n",

        "Vol Model:                       ARCH   Log-Likelihood:                84.2339\n",

        "Distribution:                  Normal   AIC:                          -148.468\n",

        "Method:            Maximum Likelihood   BIC:                          -103.350\n",

        "                                        No. Observations:                  673\n",

        "Date:                Thu, Oct 16 2014   Df Residuals:                      663\n",

        "Time:                        21:55:33   Df Model:                           10\n",

        "                                   Mean Model                                   \n",

        "================================================================================\n",

        "                   coef    std err          t      P>|t|        95.0% Conf. Int.\n",

        "--------------------------------------------------------------------------------\n",

        "Const            0.0262  4.752e-04     55.233      0.000   [2.531e-02,2.718e-02]\n",

        "CPILFESL[1]      1.0853  1.478e-03    734.265      0.000       [  1.082,  1.088]\n",

        "CPILFESL[3]     -0.0754  1.733e-03    -43.517      0.000 [-7.880e-02,-7.201e-02]\n",

        "CPILFESL[12]    -0.0209  1.418e-04   -147.519      0.000 [-2.120e-02,-2.064e-02]\n",

        "                               Volatility Model                               \n",

        "==============================================================================\n",

        "                 coef    std err          t      P>|t|        95.0% Conf. Int.\n",

        "------------------------------------------------------------------------------\n",

        "omega      9.5758e-03  4.889e-06   1958.645      0.000   [9.566e-03,9.585e-03]\n",

        "alpha[1]       0.1321  1.714e-03     77.080      0.000       [  0.129,  0.136]\n",

        "alpha[2]       0.2244  4.076e-03     55.065      0.000       [  0.216,  0.232]\n",

        "alpha[3]       0.1753  5.152e-03     34.029 8.302e-254       [  0.165,  0.185]\n",

        "alpha[4]       0.2664  7.021e-03     37.938      0.000       [  0.253,  0.280]\n",

        "alpha[5]       0.1730  5.776e-03     29.947 4.838e-197       [  0.162,  0.184]\n",

        "==============================================================================\n",

        "\n",

        "Covariance estimator: robust\n"

       ]

      }

     ],

     "prompt_number": 10

    },

    {

     "cell_type": "markdown",

     "metadata": {},

     "source": [

      "Plotting the standardized residuals and the conditional volatility shows some large (in magnitude) errors, even when standardized."

     ]

    },

    {

     "cell_type": "code",

     "collapsed": false,

     "input": [

      "fig = res.plot()"

     ],

     "language": "python",

     "metadata": {},

     "outputs": [

      {

       "metadata": {},

       "output_type": "display_data",

       "png": "[encoded data removed]",

       "text": [

        "<matplotlib.figure.Figure at 0x15101b38>"

       ]

      }

     ],

     "prompt_number": 11

    },

    {

     "cell_type": "heading",

     "level": 3,

     "metadata": {},

     "source": [

      "Distributions"

     ]

    },

    {

     "cell_type": "markdown",

     "metadata": {},

     "source": [

      "Finally the distribution can be changed from the default normal to a standardized Student's T using the `distribution` property of a mean model.\n",

      "\n",

      "The Student's t distribution improves the model, and the degree of freedom is estimated to be near 8."

     ]

    },

    {

     "cell_type": "code",

     "collapsed": false,

     "input": [

      "from arch.univariate import StudentsT\n",

      "ar.distribution = StudentsT()\n",

      "res = ar.fit(iter=0, disp='off')\n",

      "print(res.summary())"

     ],

     "language": "python",

     "metadata": {},

     "outputs": [

      {

       "output_type": "stream",

       "stream": "stdout",

       "text": [

        "                              AR - ARCH Model Results                               \n",

        "====================================================================================\n",

        "Dep. Variable:                     CPILFESL   R-squared:                       0.991\n",

        "Mean Model:                              AR   Adj. R-squared:                  0.991\n",

        "Vol Model:                             ARCH   Log-Likelihood:                90.0382\n",

        "Distribution:      Standardized Student's t   AIC:                          -158.076\n",

        "Method:                  Maximum Likelihood   BIC:                          -108.447\n",

        "                                              No. Observations:                  673\n",

        "Date:                      Thu, Oct 16 2014   Df Residuals:                      662\n",

        "Time:                              21:55:34   Df Model:                           11\n",

        "                                   Mean Model                                   \n",

        "================================================================================\n",

        "                   coef    std err          t      P>|t|        95.0% Conf. Int.\n",

        "--------------------------------------------------------------------------------\n",

        "Const            0.0286  4.875e-04     58.692      0.000   [2.766e-02,2.957e-02]\n",

        "CPILFESL[1]      1.0852  1.526e-03    711.125      0.000       [  1.082,  1.088]\n",

        "CPILFESL[3]     -0.0699  1.823e-03    -38.322      0.000 [-7.345e-02,-6.630e-02]\n",

        "CPILFESL[12]    -0.0265  2.264e-04   -117.177      0.000 [-2.698e-02,-2.609e-02]\n",

        "                               Volatility Model                               \n",

        "==============================================================================\n",

        "                 coef    std err          t      P>|t|        95.0% Conf. Int.\n",

        "------------------------------------------------------------------------------\n",

        "omega          0.0113  9.750e-06   1156.569      0.000   [1.126e-02,1.130e-02]\n",

        "alpha[1]       0.1703  2.792e-03     60.979      0.000       [  0.165,  0.176]\n",

        "alpha[2]       0.2160  4.371e-03     49.415      0.000       [  0.207,  0.225]\n",

        "alpha[3]       0.1421  4.820e-03     29.479 5.278e-191       [  0.133,  0.152]\n",

        "alpha[4]       0.2215  6.151e-03     36.010 5.938e-284       [  0.209,  0.234]\n",

        "alpha[5]       0.1643  7.658e-03     21.451 4.456e-102       [  0.149,  0.179]\n",

        "                                 Distribution                                 \n",

        "==============================================================================\n",

        "                 coef    std err          t      P>|t|        95.0% Conf. Int.\n",

        "------------------------------------------------------------------------------\n",

        "nu             8.9031     13.321      0.668      0.504       [-17.206, 35.012]\n",

        "==============================================================================\n",

        "\n",

        "Covariance estimator: robust\n"

       ]

      }

     ],

     "prompt_number": 12

    }

   ],

   "metadata": {}

  }

 ]

}
